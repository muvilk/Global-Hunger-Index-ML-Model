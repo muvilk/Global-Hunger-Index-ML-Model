{
 "cells": [
  {
   "cell_type": "markdown",
   "metadata": {
    "deletable": false,
    "editable": false,
    "nbgrader": {
     "grade": false,
     "locked": true,
     "solution": false
    }
   },
   "source": [
    "# 2D Design Template"
   ]
  },
  {
   "cell_type": "markdown",
   "metadata": {
    "deletable": false,
    "editable": false,
    "nbgrader": {
     "grade": false,
     "locked": true,
     "solution": false
    }
   },
   "source": [
    "# Overview\n",
    "\n",
    "The purpose of this project is for you to apply what you have learnt in this course. This includes working with data and visualizing it, create model of linear regression or logistic regression, as well as using metrics to measure the accuracy of your model. \n",
    "\n",
    "Please find the project handout description in the following [link](https://sutdapac-my.sharepoint.com/:b:/g/personal/franklin_anariba_sutd_edu_sg/EaaE7XKJ0ZtJntc2IxEPiIYBVjijsZ5tUaPaH7mejSveWQ?e=1qADfd).\n"
   ]
  },
  {
   "cell_type": "markdown",
   "metadata": {
    "deletable": false,
    "editable": false,
    "nbgrader": {
     "grade": false,
     "locked": true,
     "solution": false
    }
   },
   "source": [
    "## Deliverables\n",
    "\n",
    "You need to submit this Jupyter notebook together with the dataset into Vocareum. Use the template in this notebook to work on this project."
   ]
  },
  {
   "cell_type": "markdown",
   "metadata": {},
   "source": [
    "## Students Submission\n",
    "\n",
    "Student's Name:\n",
    "- Eugenie Alana Florencia\n",
    "- Muvil Kenal Kothari\n",
    "- Mak Weng Hui\n",
    "- Long Yan Ting\n",
    "- Khoo Yong Xuan"
   ]
  },
  {
   "cell_type": "markdown",
   "metadata": {
    "tags": []
   },
   "source": [
    "### Overview About the Problem\n",
    "\n",
    "Bill (our persona) is from a non-government organisation tasked with providing humanitarian aid to those in need. Specifically, he strives to achieve the key sustainable goal of Zero Hunger. In order to assist him, he wants to develop a model which can predict a region’s food safety and security level, allowing him to understand the extent of aid to supply that particular region with.\n",
    "Bill decided to choose **Global Hunger Index (GHI)** to measure a country’s degree of food safety and security. GHI consists of 3 dimensions: insufficient availability of food, shortfalls in nutritional status of children and child mortality rate. These three equally weighted indicators will give him insight as to whether the country is achieving hunger-related sustainable development goals and hence food security and safety.\n",
    "\n",
    "A country’s GHI can be influenced by many factors: Social, Economic, Environmental, and Political. In order to develop a model capable of tracking all of these factors, the chosen features of the model are GDP per Capita, Multi-dimensional Poverty Index, Global Happiness Index, and Global Peace Index.\n",
    "\n",
    "This allows Bill to define a problem statement that the model seeks to address:\n",
    "\n",
    " \"How might Bill predict Global Hunger Index of a region by utilising its GDP Per Capita, Global Happiness Index, Multidimensional Poverty Index and Global Peace Index?\"\n",
    " \n",
    "This problem statement will change as the model undergoes several improvements and iterations."
   ]
  },
  {
   "cell_type": "markdown",
   "metadata": {
    "tags": []
   },
   "source": [
    "### Dataset"
   ]
  },
  {
   "cell_type": "code",
   "execution_count": 258,
   "metadata": {
    "tags": []
   },
   "outputs": [],
   "source": [
    "import pandas as pd\n",
    "import numpy as np\n",
    "import matplotlib.pyplot as plt\n",
    "import seaborn as sns\n",
    "\n",
    "#1st Iteration\n",
    "df = pd.read_csv(\"1st Iteration.csv\")\n",
    "feature_names = [\"GDP Per Capita\", \"Global Happiness Index\", \"Multidimensional Poverty Index\",\"Global Peace Index\"] \n",
    "\n",
    "target_names = [\"Global Hunger Index\"]\n",
    "country_names = df[\"Country\"]"
   ]
  },
  {
   "cell_type": "markdown",
   "metadata": {},
   "source": [
    "The helper function `filter_by_country(dfin, country_name)`  filters the dataframe by the `name` of the country."
   ]
  },
  {
   "cell_type": "code",
   "execution_count": 259,
   "metadata": {},
   "outputs": [],
   "source": [
    "df_countries = {}\n",
    "for country in country_names:\n",
    "    df_countries[country] = df[df[\"Country\"] == country]\n",
    "\n",
    "# creates a dictionary with the keys being the country 'name' and the values being the features of the dataframe filtered by country."
   ]
  },
  {
   "cell_type": "code",
   "execution_count": 260,
   "metadata": {},
   "outputs": [
    {
     "data": {
      "text/html": [
       "<div>\n",
       "<style scoped>\n",
       "    .dataframe tbody tr th:only-of-type {\n",
       "        vertical-align: middle;\n",
       "    }\n",
       "\n",
       "    .dataframe tbody tr th {\n",
       "        vertical-align: top;\n",
       "    }\n",
       "\n",
       "    .dataframe thead th {\n",
       "        text-align: right;\n",
       "    }\n",
       "</style>\n",
       "<table border=\"1\" class=\"dataframe\">\n",
       "  <thead>\n",
       "    <tr style=\"text-align: right;\">\n",
       "      <th></th>\n",
       "      <th>Country</th>\n",
       "      <th>Global Hunger Index</th>\n",
       "      <th>GDP Per Capita</th>\n",
       "      <th>Global Happiness Index</th>\n",
       "      <th>Multidimensional Poverty Index</th>\n",
       "      <th>Global Peace Index</th>\n",
       "    </tr>\n",
       "  </thead>\n",
       "  <tbody>\n",
       "    <tr>\n",
       "      <th>6</th>\n",
       "      <td>Brazil</td>\n",
       "      <td>6.7</td>\n",
       "      <td>1.454</td>\n",
       "      <td>6.125</td>\n",
       "      <td>0.016</td>\n",
       "      <td>2.462</td>\n",
       "    </tr>\n",
       "  </tbody>\n",
       "</table>\n",
       "</div>"
      ],
      "text/plain": [
       "  Country  Global Hunger Index  GDP Per Capita  Global Happiness Index  \\\n",
       "6  Brazil                  6.7           1.454                   6.125   \n",
       "\n",
       "   Multidimensional Poverty Index  Global Peace Index  \n",
       "6                           0.016               2.462  "
      ]
     },
     "execution_count": 260,
     "metadata": {},
     "output_type": "execute_result"
    }
   ],
   "source": [
    "df_countries[\"Brazil\"]\n",
    "\n",
    "# example of how the function gives you the output of a countries specific feature values as mentioned above"
   ]
  },
  {
   "cell_type": "markdown",
   "metadata": {},
   "source": [
    "#### Columns for 1st Iteration\n",
    "- Global Hunger Index  \n",
    "- GDP Per Capita  \n",
    "- Global Happiness Index  \n",
    "- Multidimensional Poverty Index\n",
    "- Global Peace Index\n",
    "\n",
    "#### Columns for 2nd and Final Iteration\n",
    "- Global Hunger Index  \n",
    "- GDP Per Capita  \n",
    "- Global Happiness Index  \n",
    "- Multidimensional Poverty Index\n",
    "- Global Peace Index\n",
    "- World Risk Index"
   ]
  },
  {
   "cell_type": "markdown",
   "metadata": {
    "tags": []
   },
   "source": [
    "### Features and Target Preparation\n",
    "\n",
    "#### Features: \n",
    "- GDP Per Capita: \n",
    "GDP per capita indicates a certain country's economic condition and standard of living. \n",
    "- Global Happiness Index: \n",
    "The Global Happiness Index is a measure of a country’s happiness using a variety of other economic and social indicators such as life expectancy, freedom of choice, generosity, and corruption \n",
    "- Multidimensional Poverty Index:\n",
    "MPI is a measure of a country’s acute poverty severity through health, education, and living standard indicators.\n",
    "- Global Peace Index:\n",
    "The Global Peace Index quantifies the absence of violence and fear of violence to assess the countries' level of peace.\n",
    "- World Risk Index:\n",
    "The World Risk Index is way to measure and estimate the disaster risk of the country. These disasters are caused by extreme natural events and negative impacts of climate change. \\(introduced in subsequent iterations of the model)\n",
    "\n",
    "#### Target: \n",
    "- Global Hunger Index:\n",
    "Global Hunger Index measure and track hunger at global, regional, and national levels, reflecting multiple dimensions of hunger over time by considering factors such as undernourishment, child stunting, child wasting, and child mortality.\n"
   ]
  },
  {
   "cell_type": "markdown",
   "metadata": {
    "tags": []
   },
   "source": [
    "#### Helper Functions to prepare our features and targets:\n",
    "\n",
    "1. `normalize_minmax(dfin)`: Standardization: Write a function that takes in data frame where all the column are the features and normalize each column according to the following formula.\n",
    "\n",
    "    $$normalized = \\frac{data - min}{max - min}$$\n",
    "    \n",
    "    where $min$ is the min of the data and $max - min$ is the range of the data. The function returns a new dataframe.\n",
    "\n",
    "        Using following functions from Pandas:\n",
    "        - df.min(axis=0): This is to get the minimum along the index axis.\n",
    "        - df.max(axis=0): This is to get the maximum along the index axis.\n",
    "\n",
    "\n",
    "\n",
    "2. `get_features_targets(df, feature_names, target_names)`: To get the columns for the features and the targets from the input argument data frame. The function takes in Pandas' dataframe and two lists. The first list is for the feature names and the other list is for the target names.\n",
    "\n",
    "\n",
    "3. `prepare_feature(df)`: which takes in a data frame or two-dimensional numpy array for the feature. If the input is a data frame, the function should convert the data frame to a numpy array and change it into a column vector. The function should also add a column of constant 1s in the first column.\n",
    "\n",
    "\n",
    "4. `prepare_target(df)`: which takes in a data frame or two-dimensional numpy array for the target. If the input is a data frame, the function should simply convert the data frame to a numpy array and change it into column vectors.\n",
    "\n",
    "\n",
    "5. `predict(df_feature, beta)`: This standardizes the feature using z normalization, changes it to a Numpy array, and adds a column of constant 1s. prepare_feature() is used for this purpose. Lastly, this function calls predict_norm() to get the predicted y values.\n",
    "\n",
    "6. `calc_linreg(X, b)`: which is used to calculate the $\\hat{y} = Xb$ vector.\n",
    "\n",
    "7. `split_data(df_feature, df_target, random_state=None, test_size=0.3)`: Split the Data Frame randomly. The function has the following arguments:\n",
    "    - df_feature: Data frame for the features.\n",
    "    - df_target: Data frame for the target.\n",
    "    - random_state: Seed used to split randomly.\n",
    "    - test_size: Fraction for the test data set (0 to 1)\n",
    "\n",
    "    The output of the function is a tuple of four items:\n",
    "    - df_feature_train: Train set for the features data frame\n",
    "    - df_feature_test: Test set for the features data frame\n",
    "    - df_target_train: Train set for the target data frame\n",
    "    - df_target_test: Test set for the target data frame\n",
    "\n",
    "\n",
    "\n",
    "8. `mean_squared_error(target, pred)`: Calculate the MSE\n",
    "\n",
    "    $$MSE = \\frac{1}{n}\\Sigma_{i=1}^n(y^i - \\hat{y}^i)^2$$\n",
    "    \n",
    "9. `r2_score(y, ypred)`: Calculates the coefficient of determination as given by the following equations.\n",
    "\n",
    "    $$r^2 = 1 - \\frac{SS_{res}}{SS_{tot}}$$\n",
    "    \n",
    "10. `accuracy_estimate(MSE)`: Used to estimate the accuracy of the MSE metric"
   ]
  },
  {
   "cell_type": "code",
   "execution_count": 261,
   "metadata": {},
   "outputs": [],
   "source": [
    "#1st and 2nd Iteration. Function is names as normalize only as it will be redefined for the last iteration\n",
    "#Normalize using min_max\n",
    "def normalize(dfin, columns_mins=None, columns_maxs=None):\n",
    "    if columns_mins is None:\n",
    "        columns_mins = dfin.min(axis=0)\n",
    "    if columns_maxs is None:\n",
    "        columns_maxs = dfin.max(axis=0)\n",
    "    if isinstance(dfin, np.ndarray):\n",
    "        columns_mins = np.array(columns_mins)\n",
    "        columns_maxs = np.array(columns_maxs)        \n",
    "    dfout = (dfin.copy() - columns_mins) / (columns_maxs - columns_mins)\n",
    "    return dfout\n",
    "\n",
    "def get_features_targets(df, feature_names, target_names):\n",
    "    df_feature = df[feature_names]\n",
    "    df_target = df[target_names]\n",
    "    return df_feature, df_target\n",
    "\n",
    "def prepare_feature(df_feature):\n",
    "    cols = len(df_feature.columns)\n",
    "    feature = df_feature.to_numpy().reshape(-1, cols)\n",
    "    X = np.concatenate((np.ones((feature.shape[0], 1)), feature), axis=1)\n",
    "    return X\n",
    "\n",
    "def prepare_target(df_target):\n",
    "    cols = len(df_target.columns)\n",
    "    target = df_target.to_numpy().reshape(-1, cols)\n",
    "    return target\n",
    "\n",
    "def calc_linreg(X, beta):\n",
    "    return np.matmul(X, beta)\n",
    "\n",
    "def predict(df_feature, beta, mins=None, maxs=None):\n",
    "    norm_data = normalize(df_feature, mins, maxs)\n",
    "    X = prepare_feature(norm_data)\n",
    "    return calc_linreg(X, beta)\n",
    "\n",
    "def split_data(df_feature, df_target, random_state=100, test_size=0.3):\n",
    "    ### BEGIN SOLUTION\n",
    "    indexes = df_feature.index\n",
    "    if random_state != None:\n",
    "        np.random.seed(random_state)\n",
    "    k = int(test_size * len(indexes))\n",
    "    test_index = np.random.choice(indexes, k, replace=False)\n",
    "    indexes = set(indexes)\n",
    "    test_index = set(test_index)\n",
    "    train_index = indexes - test_index # set subtraction\n",
    "\n",
    "    df_feature_train = df_feature.loc[train_index, :]\n",
    "    df_feature_test = df_feature.loc[test_index, :]\n",
    "    df_target_train = df_target.loc[train_index, :]\n",
    "    df_target_test = df_target.loc[test_index, :]\n",
    "    return df_feature_train, df_feature_test, df_target_train, df_target_test\n",
    "\n",
    "def mean_squared_error(target, pred):\n",
    "    y_minus_ypred = pred - target\n",
    "    y_minus_ypred_sq = np.matmul(y_minus_ypred.T, y_minus_ypred)\n",
    "    summation = np.sum(y_minus_ypred_sq)\n",
    "    mse = (1/len(target)) * summation\n",
    "    return mse\n",
    "\n",
    "def r2_score(y, ypred):\n",
    "    ymean = np.mean(y)\n",
    "    sstot = np.sum((y-ymean)**2) # returns the sum of variance of the target data from its mean\n",
    "    ssres = np.sum((y-ypred)**2) # returns the sum of variance of target data from the predicted data\n",
    "\n",
    "    r_2 = 1 - (ssres/sstot)\n",
    "    return r_2\n",
    "\n",
    "#This is a function used to determine the accuracy of MSE metric\n",
    "import math\n",
    "def accuracy_estimate(MSE):\n",
    "    accuracy = round(((1 - (math.sqrt(MSE)/36)) * 100), 2)\n",
    "    print(f'The accuracy of using MSE as a metric is: {accuracy}%')\n"
   ]
  },
  {
   "cell_type": "markdown",
   "metadata": {
    "tags": []
   },
   "source": [
    "#### Features of our Model"
   ]
  },
  {
   "cell_type": "code",
   "execution_count": 262,
   "metadata": {},
   "outputs": [
    {
     "data": {
      "image/png": "[encoded data removed]",
      "text/plain": [
       "<Figure size 432x288 with 1 Axes>"
      ]
     },
     "metadata": {
      "needs_background": "light"
     },
     "output_type": "display_data"
    }
   ],
   "source": [
    "gdp_target_plot = sns.regplot(x=\"GDP Per Capita\", y=\"Global Hunger Index\", data=df)\n",
    "gdp_target_plot.set_xlabel(\"GDP Per Capita\", fontsize=16)\n",
    "gdp_target_plot.set_ylabel(\"Global Hunger Index\", fontsize=16)\n",
    "gdp_target_plot.set_title(\"GDP Per Capita vs Global Hunger Index\", fontsize=16)\n",
    "plt.show()"
   ]
  },
  {
   "cell_type": "markdown",
   "metadata": {},
   "source": [
    "GDP per capita measures the disposable income of individuals in the country, reflecting their purchasing power, or ability to buy goods like groceries and food. Hence, it is expected for a GDP per capita and GHI to have a inverse relationship."
   ]
  },
  {
   "cell_type": "code",
   "execution_count": 263,
   "metadata": {},
   "outputs": [
    {
     "data": {
      "image/png": "[encoded data removed]",
      "text/plain": [
       "<Figure size 432x288 with 1 Axes>"
      ]
     },
     "metadata": {
      "needs_background": "light"
     },
     "output_type": "display_data"
    }
   ],
   "source": [
    "ghi_target_plot = sns.regplot(x=\"Global Happiness Index\", y=\"Global Hunger Index\", data=df)\n",
    "ghi_target_plot.set_xlabel(\"Global Happiness Index\", fontsize=16)\n",
    "ghi_target_plot.set_ylabel(\"Global Hunger Index\", fontsize=16)\n",
    "ghi_target_plot.set_title(\"Global Happiness Index vs Global Hunger Index\", fontsize=16)\n",
    "plt.show()"
   ]
  },
  {
   "cell_type": "markdown",
   "metadata": {},
   "source": [
    "A higher happiness index reflects better economic situations, better well-being by the citizens, and better support for these citizens. With this in mind, we should expect to see a country with a high happiness index have a low hunger index, and vice versa."
   ]
  },
  {
   "cell_type": "code",
   "execution_count": 264,
   "metadata": {},
   "outputs": [
    {
     "data": {
      "image/png": "[encoded data removed]",
      "text/plain": [
       "<Figure size 432x288 with 1 Axes>"
      ]
     },
     "metadata": {
      "needs_background": "light"
     },
     "output_type": "display_data"
    }
   ],
   "source": [
    "mpi_target_plot = sns.regplot(x=\"Multidimensional Poverty Index\", y=\"Global Hunger Index\", data=df)\n",
    "mpi_target_plot.set_xlabel(\"Multidimensional Poverty Index\", fontsize=16)\n",
    "mpi_target_plot.set_ylabel(\"Global Hunger Index\", fontsize=16)\n",
    "mpi_target_plot.set_title(\"Multidimensional Poverty Index vs Global Hunger Index\", fontsize=16)\n",
    "plt.show()"
   ]
  },
  {
   "cell_type": "markdown",
   "metadata": {},
   "source": [
    "Since MPI can be used to determine the overall standard of living in the country, it can be assumed that a country with a high MPI has significant issues regarding its health, education, and living standards. These issues that plague the country will ultimately also cause the country’s GHI level to remain high and the government will have to divert resources to address these issues in conjunction with starvation. In contrast, a country with a low MPI will have sufficient resources to ensure its citizens are well-fed, resulting in a lower GHI. "
   ]
  },
  {
   "cell_type": "code",
   "execution_count": 265,
   "metadata": {},
   "outputs": [
    {
     "data": {
      "image/png": "[encoded data removed]",
      "text/plain": [
       "<Figure size 432x288 with 1 Axes>"
      ]
     },
     "metadata": {
      "needs_background": "light"
     },
     "output_type": "display_data"
    }
   ],
   "source": [
    "gpi_target_plot = sns.regplot(x=\"Global Peace Index\", y=\"Global Hunger Index\", data=df)\n",
    "gpi_target_plot.set_xlabel(\"Global Peace Index\", fontsize=16)\n",
    "gpi_target_plot.set_ylabel(\"Global Hunger Index\", fontsize=16)\n",
    "gpi_target_plot.set_title(\"Global Peace Index vs Global Hunger Index\", fontsize=16)\n",
    "plt.show()"
   ]
  },
  {
   "cell_type": "markdown",
   "metadata": {},
   "source": [
    "Countries with lower GPI will have higher levels of conflicts in terms of frequency and intensity. These conflicts will affect and lower food security within the country. As such, the region may not receive as much aid as it needs. Furthermore, conflicts may negatively affect the region’s market and production capacity, resulting in lower GHI levels. "
   ]
  },
  {
   "cell_type": "markdown",
   "metadata": {},
   "source": [
    "### Building Model\n",
    "\n",
    "The model Bill developed is a Linear Regression Model. Using Global Hunger Index as his dependent variable, and Multidimensional Poverty Index, GDP per Capita, Global Happiness Index as his predictors.\n",
    "Splitting his data into a training set and test set, where 70% of the data is used for training and 30% for testing.\n",
    "Bill set this split at 0.3 to ensure the model has sufficient datapoints to identify underlying patterns in the dataset while not so much that the model is overfitted.\n",
    "\n",
    "From the training set of data, the model will thus be trained to predict GHI value from the predictors from these countries.\n",
    "Then from the testing set of data, by inputting the country and the predictor values, he will be able to get the GHI.\n",
    "The obtained GHI can then be compared with the data GHI to check for similarities.\n",
    "\n",
    "The functions he will use are:\n",
    "\n",
    "1. *Cost function for multiple variables:* `compute_cost(X, y, beta)` to compute the cost function of a linear regression model. The function should take in two 2-D numpy arrays. The first one is the matrix of the linear equation and the second one is the actual target value.\n",
    "\n",
    "$$J(\\hat{\\beta}_0, \\hat{\\beta}_1) = \\frac{1}{2m}\\Sigma^m_{i=1}\\left(\\hat{y}(x^i)-y^i\\right)^2$$\n",
    "\n",
    "        where\n",
    "\n",
    "$$\\hat{y}(x) =  \\hat{\\beta}_0 + \\hat{\\beta}_1 x_1 + \\hat{\\beta}_2 x_2 + \\ldots + \\hat{\\beta}_n x_n$$\n",
    "\n",
    "The function should receive three Numpy arrays:\n",
    "- `X`: is the feature 2D Numpy array\n",
    "- `y`: is the target 2D Numpy array\n",
    "- `beta`: is the parameter 2D Numpy array\n",
    "\n",
    "The function should return the cost which is a float.\n",
    "\n",
    "2. *Gradient Descent:* `gradient_descent_multi(X, y, alpha, num_iters)` that takes in four parameters:\n",
    "- `X`: is a 2-D numpy array for the features\n",
    "- `y`: is a vector array for the target\n",
    "- `alpha`: is the learning rate\n",
    "- `num_iters`: is the number of iteration to perform\n",
    "\n",
    "The function returns two arrays:\n",
    "- `beta`: is coefficient at the end of the iteration\n",
    "- `J_storage`: is the array that stores the cost value at each iteration"
   ]
  },
  {
   "cell_type": "markdown",
   "metadata": {},
   "source": [
    "#### Training the model\n",
    "\n",
    "- He prepare features and target using the `prepare_feature()` and `prepare_target()` functions.\n",
    "- The `compute_cost()` function computes the error for each data point, for each iteration\n",
    "- The `gradient_descent()` function minimizes this cost by updating the weights"
   ]
  },
  {
   "cell_type": "code",
   "execution_count": 266,
   "metadata": {},
   "outputs": [],
   "source": [
    "df_features, df_target = get_features_targets(df, feature_names, target_names)\n",
    "df_features = normalize(df_features)"
   ]
  },
  {
   "cell_type": "code",
   "execution_count": 267,
   "metadata": {},
   "outputs": [],
   "source": [
    "X = prepare_feature(df_features)\n",
    "target = prepare_target(df_target)"
   ]
  },
  {
   "cell_type": "code",
   "execution_count": 268,
   "metadata": {
    "tags": []
   },
   "outputs": [],
   "source": [
    "# put Python code to build your model\n",
    "def compute_cost(X, y, beta):\n",
    "    y_hat = np.matmul(X, beta)\n",
    "    error = y_hat - y\n",
    "    error_sq = np.matmul(error.T, error)\n",
    "    m = X.shape[0]\n",
    "    J = (1/(2*m)) * error_sq\n",
    "    J = J[0][0]\n",
    "    return J\n",
    "\n",
    "def gradient_descent(X, y, beta, alpha, num_iters):\n",
    "    m = X.shape[0]\n",
    "    J_storage = np.zeros((num_iters, 1))\n",
    "    for n in range(num_iters):\n",
    "        pred = calc_linreg(X, beta)\n",
    "        error = pred - y\n",
    "        deriv = (1/m)*np.matmul(X.T, error)\n",
    "        beta = beta - alpha * deriv\n",
    "        J_storage[n] = compute_cost(X, y, beta)\n",
    "    return beta, J_storage"
   ]
  },
  {
   "cell_type": "code",
   "execution_count": 269,
   "metadata": {},
   "outputs": [
    {
     "name": "stderr",
     "output_type": "stream",
     "text": [
      "/tmp/ipykernel_314/1754051878.py:49: FutureWarning: Passing a set as an indexer is deprecated and will raise in a future version. Use a list instead.\n",
      "  df_feature_train = df_feature.loc[train_index, :]\n",
      "/tmp/ipykernel_314/1754051878.py:50: FutureWarning: Passing a set as an indexer is deprecated and will raise in a future version. Use a list instead.\n",
      "  df_feature_test = df_feature.loc[test_index, :]\n",
      "/tmp/ipykernel_314/1754051878.py:51: FutureWarning: Passing a set as an indexer is deprecated and will raise in a future version. Use a list instead.\n",
      "  df_target_train = df_target.loc[train_index, :]\n",
      "/tmp/ipykernel_314/1754051878.py:52: FutureWarning: Passing a set as an indexer is deprecated and will raise in a future version. Use a list instead.\n",
      "  df_target_test = df_target.loc[test_index, :]\n"
     ]
    }
   ],
   "source": [
    "# Extract the features and the target\n",
    "df_features, df_target = get_features_targets(df, feature_names, target_names)\n",
    "\n",
    "# Normalize the features using z normalization\n",
    "df_features = normalize(df_features)\n",
    "\n",
    "# Split the data set into training and test\n",
    "df_features_train, df_features_test, df_target_train, df_target_test = split_data(df_features, df_target, random_state = 1000, test_size = 0.3)\n",
    "\n",
    "# Change the features and the target to numpy array using the prepare functions\n",
    "X = prepare_feature(df_features_train)\n",
    "target = prepare_target(df_target_train)\n",
    "\n",
    "iterations = 1500\n",
    "alpha = 0.01\n",
    "#since the magnitude of our target is neither small nor large, we should use a reasonable alpha value. 0.01 was chosen with this in mind.\n",
    "beta = np.zeros((len(feature_names) + 1, 1))\n",
    "\n",
    "# Call the gradient_descent function\n",
    "beta, J_storage = gradient_descent(X, target, beta, alpha, iterations)"
   ]
  },
  {
   "cell_type": "markdown",
   "metadata": {},
   "source": [
    "Plot `J_storage` to see the minimisation of the cost"
   ]
  },
  {
   "cell_type": "code",
   "execution_count": 270,
   "metadata": {},
   "outputs": [
    {
     "name": "stdout",
     "output_type": "stream",
     "text": [
      "Beta 1 value: 16.852362548131133\n",
      "Beta 2 value: -8.590833227184966\n",
      "Beta 3 value: -1.0588191414264427\n",
      "Beta 4 value: 17.8601703383109\n",
      "Beta 5 value: 5.290323605353931\n"
     ]
    },
    {
     "data": {
      "text/plain": [
       "[<matplotlib.lines.Line2D at 0x7f9f72f44b20>]"
      ]
     },
     "execution_count": 270,
     "metadata": {},
     "output_type": "execute_result"
    },
    {
     "data": {
      "image/png": "[encoded data removed]",
      "text/plain": [
       "<Figure size 432x288 with 1 Axes>"
      ]
     },
     "metadata": {
      "needs_background": "light"
     },
     "output_type": "display_data"
    }
   ],
   "source": [
    "bet = beta.flatten()\n",
    "i = 1\n",
    "for b in bet:\n",
    "    print(f'Beta {i} value: {b}')\n",
    "    i += 1\n",
    "plt.plot(J_storage)"
   ]
  },
  {
   "cell_type": "code",
   "execution_count": 271,
   "metadata": {},
   "outputs": [],
   "source": [
    "pred = predict(df_features_test, beta)\n",
    "target = prepare_target(df_target_test) # target data from the testing dataset"
   ]
  },
  {
   "cell_type": "markdown",
   "metadata": {},
   "source": [
    "### Evaluating the Model\n",
    "\n",
    "Describe your metrics and how you want to evaluate your model. Put any Python code to evaluate your model. Use plots to have a visual evaluation.\n",
    "\n",
    "Bill's model is to be used to predict the Global Hunger index of countries in order to determine necessary amount of aid they should receive. Thus, the accuracy and accountability of the model is very important. \n",
    "\n",
    "To evaluate his model, Bill decided to use both the Mean Squared Error and coefficient of determination of the model. The Mean Squared Error (MSE) of a model measures its accuracy and highlights discrepancies caused by outliers. A large MSE relative to the magnitude of the target data reveals that the model is inaccurate and the prescence of anomalies in data. A small MSE relative to magnitude of target data on the other hands tell us that the model is able to predict its target data relatively accurately.\n",
    "\n",
    "Coefficient of determination or R2_score measures the variance of the model and how well the variance can be accounted for by the feature data. A r2_score close to 1 suggests that the variance in target data is well accounted for while a r2_score close to 0 implies the opposite.\n"
   ]
  },
  {
   "cell_type": "code",
   "execution_count": 272,
   "metadata": {},
   "outputs": [
    {
     "name": "stdout",
     "output_type": "stream",
     "text": [
      "32.622363959726336\n",
      "0.5980967214498351\n"
     ]
    }
   ],
   "source": [
    "MSE = mean_squared_error(target, pred)\n",
    "r2 = r2_score(target, pred)\n",
    "\n",
    "print(MSE)\n",
    "print(r2)"
   ]
  },
  {
   "cell_type": "markdown",
   "metadata": {},
   "source": [
    "Here, he can see that the MSE and r2_score is not ideal. "
   ]
  },
  {
   "cell_type": "markdown",
   "metadata": {},
   "source": [
    "He can also use plots to visualise how well his model predicts the targets using the test dataset.\n",
    "- Legend:\n",
    "    - Orange - Predicted Value\n",
    "    - Blue - Original Target Values"
   ]
  },
  {
   "cell_type": "code",
   "execution_count": 273,
   "metadata": {},
   "outputs": [
    {
     "data": {
      "text/plain": [
       "<matplotlib.collections.PathCollection at 0x7f9f737cc700>"
      ]
     },
     "execution_count": 273,
     "metadata": {},
     "output_type": "execute_result"
    },
    {
     "data": {
      "image/png": "[encoded data removed]",
      "text/plain": [
       "<Figure size 432x288 with 1 Axes>"
      ]
     },
     "metadata": {
      "needs_background": "light"
     },
     "output_type": "display_data"
    }
   ],
   "source": [
    "plt.scatter(df_features_test[\"GDP Per Capita\"], target)\n",
    "plt.scatter(df_features_test[\"GDP Per Capita\"], pred, color=\"orange\")"
   ]
  },
  {
   "cell_type": "code",
   "execution_count": 274,
   "metadata": {},
   "outputs": [
    {
     "data": {
      "text/plain": [
       "<matplotlib.collections.PathCollection at 0x7f9f71f4df30>"
      ]
     },
     "execution_count": 274,
     "metadata": {},
     "output_type": "execute_result"
    },
    {
     "data": {
      "image/png": "[encoded data removed]",
      "text/plain": [
       "<Figure size 432x288 with 1 Axes>"
      ]
     },
     "metadata": {
      "needs_background": "light"
     },
     "output_type": "display_data"
    }
   ],
   "source": [
    "plt.scatter(df_features_test[\"Global Happiness Index\"], target)\n",
    "plt.scatter(df_features_test[\"Global Happiness Index\"], pred, color=\"orange\")"
   ]
  },
  {
   "cell_type": "code",
   "execution_count": 275,
   "metadata": {},
   "outputs": [
    {
     "data": {
      "text/plain": [
       "<matplotlib.collections.PathCollection at 0x7f9f72406d70>"
      ]
     },
     "execution_count": 275,
     "metadata": {},
     "output_type": "execute_result"
    },
    {
     "data": {
      "image/png": "[encoded data removed]",
      "text/plain": [
       "<Figure size 432x288 with 1 Axes>"
      ]
     },
     "metadata": {
      "needs_background": "light"
     },
     "output_type": "display_data"
    }
   ],
   "source": [
    "plt.scatter(df_features_test[\"Multidimensional Poverty Index\"], target)\n",
    "plt.scatter(df_features_test[\"Multidimensional Poverty Index\"], pred, color=\"orange\")"
   ]
  },
  {
   "cell_type": "markdown",
   "metadata": {},
   "source": [
    "The plots above also reveals the inaccuracy in his data as according to the test dataset, the predicted data points (in orange) are somewhat distant from the actual data point (in blue). He can the utilitse the helper function, accuracy estimate, to check the model's accuacy using its MSE."
   ]
  },
  {
   "cell_type": "code",
   "execution_count": 276,
   "metadata": {},
   "outputs": [
    {
     "name": "stdout",
     "output_type": "stream",
     "text": [
      "The accuracy of using MSE as a metric is: 84.13%\n"
     ]
    }
   ],
   "source": [
    "#This is a function used to determine the accuracy of the model\n",
    "accuracy_estimate(MSE)"
   ]
  },
  {
   "cell_type": "markdown",
   "metadata": {},
   "source": [
    "While the model is realtively accurate according to this metric, Bill feels that significant improvements can be made in preparing the data or in choosing the data."
   ]
  },
  {
   "cell_type": "markdown",
   "metadata": {},
   "source": [
    "### Improving the Model\n",
    "\n",
    "To further improve the model, Bill decided to increase his choice of dataset by introducing new features - especially from categories that have not been explored. So, for the 2nd iteration, World Risk Index is added as a feature.\n",
    "\n",
    "#### New Feature\n",
    "- World Risk Index\n",
    "World Risk Index is an assessment of the risk of a country falling victim to disasters caused by extreme natural events and the negative impacts of climate change. More frequent and severe natural disasters can cripple a country’s economy, as well as destroying infrastructure that could potentially impact food supply or production.\n",
    "\n",
    "Hence Bill updated the problem statement to be as such:\n",
    "\n",
    "\"How might Bill predict Global Hunger Index of a region by utilising its GDP Per Capita, Global Happiness Index, Multidimensional Poverty Index, Global Peace Index and World Risk Index?\""
   ]
  },
  {
   "cell_type": "code",
   "execution_count": 237,
   "metadata": {},
   "outputs": [
    {
     "data": {
      "image/png": "[encoded data removed]",
      "text/plain": [
       "<Figure size 432x288 with 1 Axes>"
      ]
     },
     "metadata": {
      "needs_background": "light"
     },
     "output_type": "display_data"
    }
   ],
   "source": [
    "wri_target_plot = sns.regplot(x=\"World Risk Index\", y=\"Global Hunger Index\", data=pd.read_csv(\"2nd Iteration.csv\"))\n",
    "wri_target_plot.set_xlabel(\"World Risk Index\", fontsize=16)\n",
    "wri_target_plot.set_ylabel(\"World Risk Index\", fontsize=16)\n",
    "wri_target_plot.set_title(\"World Risk Index vs Global Hunger Index\", fontsize=16)\n",
    "plt.show()"
   ]
  },
  {
   "cell_type": "markdown",
   "metadata": {},
   "source": [
    "Though he would expect a greater World Risk Index to result in higher GHI, the graph shows no apparent relation between World Risk Index and GHI. This could be due to a variety of factors, such as economic factors, that allow a region to withstand the occurrence of extreme natural events better than others. Despite the lack of a definite relationship with GHI, it is still important to consider WRI in the model as it could account for some of the anomalies present in other variables."
   ]
  },
  {
   "cell_type": "markdown",
   "metadata": {
    "tags": []
   },
   "source": [
    "#### Second Iteration"
   ]
  },
  {
   "cell_type": "code",
   "execution_count": 238,
   "metadata": {},
   "outputs": [
    {
     "name": "stdout",
     "output_type": "stream",
     "text": [
      "21.544310360809572\n",
      "0.7658561949024607\n"
     ]
    },
    {
     "name": "stderr",
     "output_type": "stream",
     "text": [
      "/tmp/ipykernel_314/738911381.py:49: FutureWarning: Passing a set as an indexer is deprecated and will raise in a future version. Use a list instead.\n",
      "  df_feature_train = df_feature.loc[train_index, :]\n",
      "/tmp/ipykernel_314/738911381.py:50: FutureWarning: Passing a set as an indexer is deprecated and will raise in a future version. Use a list instead.\n",
      "  df_feature_test = df_feature.loc[test_index, :]\n",
      "/tmp/ipykernel_314/738911381.py:51: FutureWarning: Passing a set as an indexer is deprecated and will raise in a future version. Use a list instead.\n",
      "  df_target_train = df_target.loc[train_index, :]\n",
      "/tmp/ipykernel_314/738911381.py:52: FutureWarning: Passing a set as an indexer is deprecated and will raise in a future version. Use a list instead.\n",
      "  df_target_test = df_target.loc[test_index, :]\n"
     ]
    }
   ],
   "source": [
    "#2nd Iteration\n",
    "df = pd.read_csv(\"2nd Iteration.csv\")\n",
    "feature_names = [\"GDP Per Capita\", \"Global Happiness Index\", \"Multidimensional Poverty Index\",\"Global Peace Index\", \"World Risk Index\"]\n",
    "\n",
    "#Normalize using min_max\n",
    "def normalize(dfin, columns_mins=None, columns_maxs=None):\n",
    "    if columns_mins is None:\n",
    "        columns_mins = dfin.min(axis=0)\n",
    "    if columns_maxs is None:\n",
    "        columns_maxs = dfin.max(axis=0)\n",
    "    if isinstance(dfin, np.ndarray):\n",
    "        columns_mins = np.array(columns_mins)\n",
    "        columns_maxs = np.array(columns_maxs)        \n",
    "    dfout = (dfin.copy() - columns_mins) / (columns_maxs - columns_mins)\n",
    "    return dfout\n",
    "\n",
    "# Extract the features and the target\n",
    "df_features, df_target = get_features_targets(df, feature_names, target_names)\n",
    "\n",
    "df_features = normalize(df_features)\n",
    "\n",
    "# Split the data set into training and test\n",
    "df_features_train, df_features_test, df_target_train, df_target_test = split_data(df_features, df_target, random_state = 1000, test_size = 0.3)\n",
    "\n",
    "# Change the features and the target to numpy array using the prepare functions\n",
    "X = prepare_feature(df_features_train)\n",
    "target = prepare_target(df_target_train)\n",
    "\n",
    "iterations = 1500\n",
    "alpha = 0.01\n",
    "beta = np.zeros((len(feature_names) + 1, 1))\n",
    "\n",
    "# Call the gradient_descent function\n",
    "beta, J_storage = gradient_descent(X, target, beta, alpha, iterations)\n",
    "\n",
    "pred = predict(df_features_test, beta)\n",
    "target = prepare_target(df_target_test) # target data from the testing dataset\n",
    "\n",
    "MSE = mean_squared_error(target, pred)\n",
    "r2 = r2_score(target, pred)\n",
    "\n",
    "print(MSE)\n",
    "print(r2)"
   ]
  },
  {
   "cell_type": "markdown",
   "metadata": {},
   "source": [
    "By increasing his dataset, he can observe significant improvement to or MSE and r2_score. This can be explained as by introducing another layer of feature, it can account for some outliers that may have been present in his dataset before. This creates new trends that can be tracked by the model, allowing for better accuracy when predicting such data.\n",
    "\n",
    "However, as he is still relatively far away from an ideal r2_score of 1 and MSE of 0, he implemented another optimisation; this time by doing better preparation of the data."
   ]
  },
  {
   "cell_type": "markdown",
   "metadata": {},
   "source": [
    "#### Final Iteration"
   ]
  },
  {
   "cell_type": "markdown",
   "metadata": {},
   "source": [
    "When preparing the data, Bill realised that the presence of anomalies within the dataset introduced a significant amount of inaccuracy. These anomalies that deviate from the general trend resulted in the model being biased to account for these anomalies. Thus, he tracked down these anomalies and removed them from the dataset. This eliminates the disproportionate effect these anomalies have on his model.\n",
    "\n",
    "Additionally, he initally prepared the data using min-max normalisation. However, he found z-normalisation to be beter as it addresses the remaining outliers that did not quantify as anomalies. Thus, he decided to prepare our data using Z-normalisation in this iteration as well.\n"
   ]
  },
  {
   "cell_type": "code",
   "execution_count": 279,
   "metadata": {},
   "outputs": [
    {
     "name": "stdout",
     "output_type": "stream",
     "text": [
      "6.913355451042049\n",
      "0.9248655759135669\n",
      "The accuracy of using MSE as a metric is: 92.7%\n"
     ]
    },
    {
     "name": "stderr",
     "output_type": "stream",
     "text": [
      "/tmp/ipykernel_314/1754051878.py:49: FutureWarning: Passing a set as an indexer is deprecated and will raise in a future version. Use a list instead.\n",
      "  df_feature_train = df_feature.loc[train_index, :]\n",
      "/tmp/ipykernel_314/1754051878.py:50: FutureWarning: Passing a set as an indexer is deprecated and will raise in a future version. Use a list instead.\n",
      "  df_feature_test = df_feature.loc[test_index, :]\n",
      "/tmp/ipykernel_314/1754051878.py:51: FutureWarning: Passing a set as an indexer is deprecated and will raise in a future version. Use a list instead.\n",
      "  df_target_train = df_target.loc[train_index, :]\n",
      "/tmp/ipykernel_314/1754051878.py:52: FutureWarning: Passing a set as an indexer is deprecated and will raise in a future version. Use a list instead.\n",
      "  df_target_test = df_target.loc[test_index, :]\n"
     ]
    }
   ],
   "source": [
    "#Final Iteration\n",
    "df = pd.read_csv(\"Final.csv\")\n",
    "feature_names = [\"GDP Per Capita\", \"Global Happiness Index\", \"Multidimensional Poverty Index\",\"Global Peace Index\", \"World Risk Index\"]\n",
    "\n",
    "#Normalize using z\n",
    "def normalize(dfin, columns_means=None, columns_stds=None):\n",
    "    mean = dfin.mean()\n",
    "    std = dfin.std(axis=0)\n",
    "    return (dfin - mean)/std\n",
    "\n",
    "# Extract the features and the target\n",
    "df_features, df_target = get_features_targets(df, feature_names, target_names)\n",
    "\n",
    "# Normalize the features using z normalization\n",
    "df_features = normalize(df_features)\n",
    "\n",
    "# Split the data set into training and test\n",
    "df_features_train, df_features_test, df_target_train, df_target_test = split_data(df_features, df_target, random_state = 1000, test_size = 0.3)\n",
    "\n",
    "# Change the features and the target to numpy array using the prepare functions\n",
    "X = prepare_feature(df_features_train)\n",
    "target = prepare_target(df_target_train)\n",
    "\n",
    "iterations = 1500\n",
    "alpha = 0.01\n",
    "beta = np.zeros((len(feature_names) + 1, 1))\n",
    "\n",
    "# Call the gradient_descent function\n",
    "beta, J_storage = gradient_descent(X, target, beta, alpha, iterations)\n",
    "\n",
    "pred = predict(df_features_test, beta)\n",
    "target = prepare_target(df_target_test) # target data from the testing dataset\n",
    "\n",
    "MSE = mean_squared_error(target, pred)\n",
    "r2 = r2_score(target, pred)\n",
    "print(MSE)\n",
    "print(r2)\n",
    "\n",
    "#This is a function used to determine the accuracy of the model\n",
    "accuracy_estimate(MSE)"
   ]
  },
  {
   "cell_type": "markdown",
   "metadata": {},
   "source": [
    "Bill can see that both the MSE and r2_score has improved significantly, along with the accuracy estimate of the model. This can be attributed to each one of his improvements. Firstly, removing anomalies eliminates the disproportionate effect they have on the model. Furthermore, the parameters of the models, such as its mean and variance, will be more stable and representative of the dataset. Hence, when he normalise our data, the data will not be skewed by the anomalies.\n",
    "\n",
    "Additionally, changing in normalization method from min-max normalization to z-normalization. Since z-normalization considers the shape of distribution of data, it is less affected by outliers. This further segregates the remaining outliers within the dataset, reducing the impact they have on the model.\n",
    "\n",
    "This all results in a more robust model that is able to capture underlying patterns presented by our dataset."
   ]
  },
  {
   "cell_type": "markdown",
   "metadata": {},
   "source": [
    "As seen from the evaluation of all three iterations here are the summary of his findings:\n",
    "\n",
    "- First Iteration\n",
    "    - MSE = 32.622363959726336\n",
    "    - r^2 = 0.5980967214498351\n",
    "\n",
    "- Second Iteration\n",
    "    - MSE = 21.544310360809572\n",
    "    - r^2 = 0.7658561949024607\n",
    "\n",
    "- Final Iteration\n",
    "    - **MSE = 6.913355451042049**\n",
    "    - **r^2 = 0.9248655759135669**"
   ]
  },
  {
   "cell_type": "markdown",
   "metadata": {},
   "source": [
    "### Discussion and Analysis\n",
    "\n",
    "From his three iterations, he was able to observe that the accuracy of the model improved in predicting GHI for the countries."
   ]
  },
  {
   "cell_type": "markdown",
   "metadata": {},
   "source": [
    "#### Final Beta Values"
   ]
  },
  {
   "cell_type": "code",
   "execution_count": 197,
   "metadata": {},
   "outputs": [
    {
     "name": "stdout",
     "output_type": "stream",
     "text": [
      "Beta 1 value: 17.270001841447836\n",
      "Beta 2 value: -2.430490515925068\n",
      "Beta 3 value: -3.5841557334070995\n",
      "Beta 4 value: 5.114458255535017\n",
      "Beta 5 value: -1.1691662584518514\n",
      "Beta 6 value: 2.0693455120044817\n"
     ]
    },
    {
     "data": {
      "text/plain": [
       "[<matplotlib.lines.Line2D at 0x7f9f72462290>]"
      ]
     },
     "execution_count": 197,
     "metadata": {},
     "output_type": "execute_result"
    },
    {
     "data": {
      "image/png": "[encoded data removed]",
      "text/plain": [
       "<Figure size 432x288 with 1 Axes>"
      ]
     },
     "metadata": {
      "needs_background": "light"
     },
     "output_type": "display_data"
    }
   ],
   "source": [
    "bet = beta.flatten()\n",
    "i = 1\n",
    "for b in bet:\n",
    "    print(f'Beta {i} value: {b}')\n",
    "    i += 1\n",
    "plt.plot(J_storage)"
   ]
  },
  {
   "cell_type": "markdown",
   "metadata": {},
   "source": [
    "From the accuracy estimate function, Bill can approximate the accuracy of the model to be around 92.7%. Hence, e can determine that the model is able to accurately determine a region's GHI. As such, Bill should be able to accurately identify regions who needs urgent help by comapring the GHI value of the region with a standardized scale as seen below:"
   ]
  },
  {
   "attachments": {
    "f6303de6-f0db-4ac9-81c9-ee7156282e92.png": {
     "image/png": "[encoded data removed]"
    }
   },
   "cell_type": "markdown",
   "metadata": {},
   "source": [
    "![image.png](attachment:f6303de6-f0db-4ac9-81c9-ee7156282e92.png)"
   ]
  },
  {
   "cell_type": "markdown",
   "metadata": {},
   "source": [
    "Additionally, if Bill wishes to improve the situation of a region in the long term, he can look to tackle some of the root problems that plague the region. He should focus on featrues that have a high beta value. In our case, tackling beta value 4, or MPI will be the most effective in improving the food safety and security of the region. \n",
    "\n",
    "If Bill wishes to further improve the model, he should include data from more countries when they are made available. This results in the distribution of data converging towards a normal distribution due to the central limit theorem. As a result, outliers will be further isolated from other data points and the general trend will be more resistant to change.\n",
    "\n",
    "For immediate improvement, Bill can also input recent years' worth of data into the model (such as for the year of 2022 and 2021). This will result in the model having a higher volume of data to build upon, reaping the benefits mentioned earlier.\n"
   ]
  }
 ],
 "metadata": {
  "kernelspec": {
   "display_name": "Python 3 [3.10]",
   "language": "python",
   "name": "python3"
  },
  "language_info": {
   "codemirror_mode": {
    "name": "ipython",
    "version": 3
   },
   "file_extension": ".py",
   "mimetype": "text/x-python",
   "name": "python",
   "nbconvert_exporter": "python",
   "pygments_lexer": "ipython3",
   "version": "3.10.2"
  }
 },
 "nbformat": 4,
 "nbformat_minor": 4
}
